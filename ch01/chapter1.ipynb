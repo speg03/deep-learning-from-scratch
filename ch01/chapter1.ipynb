{
 "cells": [
  {
   "cell_type": "markdown",
   "metadata": {},
   "source": [
    "# 1章 Python入門"
   ]
  },
  {
   "cell_type": "markdown",
   "metadata": {},
   "source": [
    "```\n",
    "$ pyenv install anaconda3-4.1.1\n",
    "$ pyenv local anaconda3-4.1.1\n",
    "$ pip install -U pip\n",
    "```"
   ]
  },
  {
   "cell_type": "code",
   "execution_count": 1,
   "metadata": {
    "collapsed": false
   },
   "outputs": [
    {
     "name": "stdout",
     "output_type": "stream",
     "text": [
      "anaconda3-4.1.1\r\n"
     ]
    }
   ],
   "source": [
    "!pyenv version-name"
   ]
  },
  {
   "cell_type": "code",
   "execution_count": 2,
   "metadata": {
    "collapsed": false
   },
   "outputs": [
    {
     "name": "stdout",
     "output_type": "stream",
     "text": [
      "Python 3.5.2 :: Anaconda 4.1.1 (x86_64)\r\n"
     ]
    }
   ],
   "source": [
    "!python -V"
   ]
  },
  {
   "cell_type": "code",
   "execution_count": 3,
   "metadata": {
    "collapsed": false
   },
   "outputs": [
    {
     "name": "stdout",
     "output_type": "stream",
     "text": [
      "Package                            Version    \r\n",
      "---------------------------------- -----------\r\n",
      "alabaster                          0.7.8      \r\n",
      "anaconda-client                    1.4.0      \r\n",
      "anaconda-navigator                 1.2.1      \r\n",
      "appnope                            0.1.0      \r\n",
      "appscript                          1.0.1      \r\n",
      "argcomplete                        1.0.0      \r\n",
      "astropy                            1.2.1      \r\n",
      "Babel                              2.3.3      \r\n",
      "backports.shutil-get-terminal-size 1.0.0      \r\n",
      "beautifulsoup4                     4.4.1      \r\n",
      "bitarray                           0.8.1      \r\n",
      "blaze                              0.10.1     \r\n",
      "bokeh                              0.12.0     \r\n",
      "boto                               2.40.0     \r\n",
      "Bottleneck                         1.1.0      \r\n",
      "cffi                               1.6.0      \r\n",
      "chest                              0.2.3      \r\n",
      "click                              6.6        \r\n",
      "cloudpickle                        0.2.1      \r\n",
      "clyent                             1.2.2      \r\n",
      "colorama                           0.3.7      \r\n",
      "conda                              4.1.6      \r\n",
      "conda-build                        1.21.3     \r\n",
      "conda-env                          2.5.0a0    \r\n",
      "configobj                          5.0.6      \r\n",
      "contextlib2                        0.5.3      \r\n",
      "cryptography                       1.4        \r\n",
      "cycler                             0.10.0     \r\n",
      "Cython                             0.24       \r\n",
      "cytoolz                            0.8.0      \r\n",
      "dask                               0.10.0     \r\n",
      "datashape                          0.5.2      \r\n",
      "decorator                          4.0.10     \r\n",
      "dill                               0.2.5      \r\n",
      "docutils                           0.12       \r\n",
      "dynd                               0.7.3.dev1 \r\n",
      "et-xmlfile                         1.0.1      \r\n",
      "fastcache                          1.0.2      \r\n",
      "Flask                              0.11.1     \r\n",
      "Flask-Cors                         2.1.2      \r\n",
      "gevent                             1.1.1      \r\n",
      "greenlet                           0.4.10     \r\n",
      "h5py                               2.6.0      \r\n",
      "HeapDict                           1.0.0      \r\n",
      "idna                               2.1        \r\n",
      "imagesize                          0.7.1      \r\n",
      "ipykernel                          4.3.1      \r\n",
      "ipython                            4.2.0      \r\n",
      "ipython-genutils                   0.1.0      \r\n",
      "ipywidgets                         4.1.1      \r\n",
      "itsdangerous                       0.24       \r\n",
      "jdcal                              1.2        \r\n",
      "jedi                               0.9.0      \r\n",
      "Jinja2                             2.8        \r\n",
      "jsonschema                         2.5.1      \r\n",
      "jupyter                            1.0.0      \r\n",
      "jupyter-client                     4.3.0      \r\n",
      "jupyter-console                    4.1.1      \r\n",
      "jupyter-contrib-core               0.3.0      \r\n",
      "jupyter-contrib-nbextensions       0.2.2      \r\n",
      "jupyter-core                       4.1.0      \r\n",
      "jupyter-latex-envs                 1.3.4      \r\n",
      "jupyter-nbextensions-configurator  0.2.2      \r\n",
      "llvmlite                           0.11.0     \r\n",
      "locket                             0.2.0      \r\n",
      "lxml                               3.6.0      \r\n",
      "MarkupSafe                         0.23       \r\n",
      "matplotlib                         1.5.1      \r\n",
      "mistune                            0.7.2      \r\n",
      "mpmath                             0.19       \r\n",
      "multipledispatch                   0.4.8      \r\n",
      "nb-anacondacloud                   1.1.0      \r\n",
      "nb-conda                           1.1.0      \r\n",
      "nb-conda-kernels                   1.0.3      \r\n",
      "nbconvert                          4.2.0      \r\n",
      "nbformat                           4.0.1      \r\n",
      "nbpresent                          3.0.2      \r\n",
      "networkx                           1.11       \r\n",
      "nltk                               3.2.1      \r\n",
      "nose                               1.3.7      \r\n",
      "notebook                           4.2.1      \r\n",
      "numba                              0.26.0     \r\n",
      "numexpr                            2.6.0      \r\n",
      "numpy                              1.11.1     \r\n",
      "odo                                0.5.0      \r\n",
      "openpyxl                           2.3.2      \r\n",
      "pandas                             0.18.1     \r\n",
      "partd                              0.3.4      \r\n",
      "path.py                            0.0.0      \r\n",
      "pathlib2                           2.1.0      \r\n",
      "patsy                              0.4.1      \r\n",
      "pep8                               1.7.0      \r\n",
      "pexpect                            4.0.1      \r\n",
      "pickleshare                        0.7.2      \r\n",
      "Pillow                             3.2.0      \r\n",
      "pip                                9.0.1      \r\n",
      "ply                                3.8        \r\n",
      "psutil                             4.3.0      \r\n",
      "ptyprocess                         0.5.1      \r\n",
      "py                                 1.4.31     \r\n",
      "pyasn1                             0.1.9      \r\n",
      "pycosat                            0.6.1      \r\n",
      "pycparser                          2.14       \r\n",
      "pycrypto                           2.6.1      \r\n",
      "pycurl                             7.43.0     \r\n",
      "pyflakes                           1.2.3      \r\n",
      "Pygments                           2.1.3      \r\n",
      "pyOpenSSL                          16.0.0     \r\n",
      "pyparsing                          2.1.4      \r\n",
      "pytest                             2.9.2      \r\n",
      "python-dateutil                    2.5.3      \r\n",
      "pytz                               2016.4     \r\n",
      "PyYAML                             3.11       \r\n",
      "pyzmq                              15.2.0     \r\n",
      "qtconsole                          4.2.1      \r\n",
      "QtPy                               1.0.2      \r\n",
      "redis                              2.10.5     \r\n",
      "requests                           2.10.0     \r\n",
      "rope-py3k                          0.9.4.post1\r\n",
      "ruamel-yaml                        -VERSION   \r\n",
      "scikit-image                       0.12.3     \r\n",
      "scikit-learn                       0.17.1     \r\n",
      "scipy                              0.17.1     \r\n",
      "setuptools                         23.0.0     \r\n",
      "simplegeneric                      0.8.1      \r\n",
      "singledispatch                     3.4.0.3    \r\n",
      "six                                1.10.0     \r\n",
      "snowballstemmer                    1.2.1      \r\n",
      "sockjs-tornado                     1.0.3      \r\n",
      "Sphinx                             1.4.1      \r\n",
      "sphinx-rtd-theme                   0.1.9      \r\n",
      "spyder                             2.3.9      \r\n",
      "SQLAlchemy                         1.0.13     \r\n",
      "statsmodels                        0.6.1      \r\n",
      "sympy                              1.0        \r\n",
      "tables                             3.2.2      \r\n",
      "terminado                          0.6        \r\n",
      "toolz                              0.8.0      \r\n",
      "tornado                            4.3        \r\n",
      "traitlets                          4.2.1      \r\n",
      "unicodecsv                         0.14.1     \r\n",
      "Werkzeug                           0.11.10    \r\n",
      "wheel                              0.29.0     \r\n",
      "xlrd                               1.0.0      \r\n",
      "XlsxWriter                         0.9.2      \r\n",
      "xlwings                            0.7.2      \r\n",
      "xlwt                               1.1.2      \r\n"
     ]
    }
   ],
   "source": [
    "!pip list --format=columns"
   ]
  },
  {
   "cell_type": "markdown",
   "metadata": {},
   "source": [
    "## 1.5 NumPy"
   ]
  },
  {
   "cell_type": "code",
   "execution_count": 4,
   "metadata": {
    "collapsed": true
   },
   "outputs": [],
   "source": [
    "import numpy as np"
   ]
  },
  {
   "cell_type": "code",
   "execution_count": 5,
   "metadata": {
    "collapsed": false
   },
   "outputs": [
    {
     "data": {
      "text/plain": [
       "array([ 1.,  2.,  3.])"
      ]
     },
     "execution_count": 5,
     "metadata": {},
     "output_type": "execute_result"
    }
   ],
   "source": [
    "x = np.array([1.0, 2.0, 3.0])\n",
    "x"
   ]
  },
  {
   "cell_type": "code",
   "execution_count": 6,
   "metadata": {
    "collapsed": false
   },
   "outputs": [
    {
     "data": {
      "text/plain": [
       "numpy.ndarray"
      ]
     },
     "execution_count": 6,
     "metadata": {},
     "output_type": "execute_result"
    }
   ],
   "source": [
    "type(x)"
   ]
  },
  {
   "cell_type": "code",
   "execution_count": 7,
   "metadata": {
    "collapsed": false
   },
   "outputs": [
    {
     "data": {
      "text/plain": [
       "array([ 2.,  4.,  6.])"
      ]
     },
     "execution_count": 7,
     "metadata": {},
     "output_type": "execute_result"
    }
   ],
   "source": [
    "y = np.array([2.0, 4.0, 6.0])\n",
    "y"
   ]
  },
  {
   "cell_type": "code",
   "execution_count": 8,
   "metadata": {
    "collapsed": false
   },
   "outputs": [
    {
     "data": {
      "text/plain": [
       "array([ 3.,  6.,  9.])"
      ]
     },
     "execution_count": 8,
     "metadata": {},
     "output_type": "execute_result"
    }
   ],
   "source": [
    "x + y"
   ]
  },
  {
   "cell_type": "code",
   "execution_count": 9,
   "metadata": {
    "collapsed": false
   },
   "outputs": [
    {
     "data": {
      "text/plain": [
       "array([-1., -2., -3.])"
      ]
     },
     "execution_count": 9,
     "metadata": {},
     "output_type": "execute_result"
    }
   ],
   "source": [
    "x - y"
   ]
  },
  {
   "cell_type": "code",
   "execution_count": 10,
   "metadata": {
    "collapsed": false
   },
   "outputs": [
    {
     "data": {
      "text/plain": [
       "array([  2.,   8.,  18.])"
      ]
     },
     "execution_count": 10,
     "metadata": {},
     "output_type": "execute_result"
    }
   ],
   "source": [
    "x * y"
   ]
  },
  {
   "cell_type": "code",
   "execution_count": 11,
   "metadata": {
    "collapsed": false
   },
   "outputs": [
    {
     "data": {
      "text/plain": [
       "array([ 0.5,  0.5,  0.5])"
      ]
     },
     "execution_count": 11,
     "metadata": {},
     "output_type": "execute_result"
    }
   ],
   "source": [
    "x / y"
   ]
  },
  {
   "cell_type": "markdown",
   "metadata": {},
   "source": [
    "## 1.5.4 NumPy のN次元配列"
   ]
  },
  {
   "cell_type": "code",
   "execution_count": 12,
   "metadata": {
    "collapsed": false
   },
   "outputs": [
    {
     "data": {
      "text/plain": [
       "array([[1, 2],\n",
       "       [3, 4]])"
      ]
     },
     "execution_count": 12,
     "metadata": {},
     "output_type": "execute_result"
    }
   ],
   "source": [
    "A = np.array([[1, 2], [3, 4]])\n",
    "A"
   ]
  },
  {
   "cell_type": "code",
   "execution_count": 13,
   "metadata": {
    "collapsed": false
   },
   "outputs": [
    {
     "data": {
      "text/plain": [
       "(2, 2)"
      ]
     },
     "execution_count": 13,
     "metadata": {},
     "output_type": "execute_result"
    }
   ],
   "source": [
    "A.shape"
   ]
  },
  {
   "cell_type": "code",
   "execution_count": 14,
   "metadata": {
    "collapsed": false
   },
   "outputs": [
    {
     "data": {
      "text/plain": [
       "dtype('int64')"
      ]
     },
     "execution_count": 14,
     "metadata": {},
     "output_type": "execute_result"
    }
   ],
   "source": [
    "A.dtype"
   ]
  },
  {
   "cell_type": "code",
   "execution_count": 15,
   "metadata": {
    "collapsed": false
   },
   "outputs": [
    {
     "data": {
      "text/plain": [
       "array([[3, 0],\n",
       "       [0, 6]])"
      ]
     },
     "execution_count": 15,
     "metadata": {},
     "output_type": "execute_result"
    }
   ],
   "source": [
    "B = np.array([[3, 0],[0, 6]])\n",
    "B"
   ]
  },
  {
   "cell_type": "code",
   "execution_count": 16,
   "metadata": {
    "collapsed": false
   },
   "outputs": [
    {
     "data": {
      "text/plain": [
       "array([[ 4,  2],\n",
       "       [ 3, 10]])"
      ]
     },
     "execution_count": 16,
     "metadata": {},
     "output_type": "execute_result"
    }
   ],
   "source": [
    "A + B"
   ]
  },
  {
   "cell_type": "code",
   "execution_count": 17,
   "metadata": {
    "collapsed": false
   },
   "outputs": [
    {
     "data": {
      "text/plain": [
       "array([[ 3,  0],\n",
       "       [ 0, 24]])"
      ]
     },
     "execution_count": 17,
     "metadata": {},
     "output_type": "execute_result"
    }
   ],
   "source": [
    "A * B"
   ]
  },
  {
   "cell_type": "markdown",
   "metadata": {},
   "source": [
    "## 1.5.5 ブロードキャスト"
   ]
  },
  {
   "cell_type": "code",
   "execution_count": 18,
   "metadata": {
    "collapsed": true
   },
   "outputs": [],
   "source": [
    "A = np.array([[1, 2], [3, 4]])"
   ]
  },
  {
   "cell_type": "code",
   "execution_count": 19,
   "metadata": {
    "collapsed": false
   },
   "outputs": [
    {
     "data": {
      "text/plain": [
       "array([[10, 20],\n",
       "       [30, 40]])"
      ]
     },
     "execution_count": 19,
     "metadata": {},
     "output_type": "execute_result"
    }
   ],
   "source": [
    "A * 10"
   ]
  },
  {
   "cell_type": "code",
   "execution_count": 20,
   "metadata": {
    "collapsed": true
   },
   "outputs": [],
   "source": [
    "B = np.array([10, 20])"
   ]
  },
  {
   "cell_type": "code",
   "execution_count": 21,
   "metadata": {
    "collapsed": false
   },
   "outputs": [
    {
     "data": {
      "text/plain": [
       "array([[10, 40],\n",
       "       [30, 80]])"
      ]
     },
     "execution_count": 21,
     "metadata": {},
     "output_type": "execute_result"
    }
   ],
   "source": [
    "A * B"
   ]
  },
  {
   "cell_type": "markdown",
   "metadata": {},
   "source": [
    "## 1.5.6 要素へのアクセス"
   ]
  },
  {
   "cell_type": "code",
   "execution_count": 22,
   "metadata": {
    "collapsed": true
   },
   "outputs": [],
   "source": [
    "X = np.array([[51, 55], [14, 19], [0, 4]])"
   ]
  },
  {
   "cell_type": "code",
   "execution_count": 23,
   "metadata": {
    "collapsed": false
   },
   "outputs": [
    {
     "name": "stdout",
     "output_type": "stream",
     "text": [
      "[51 55]\n",
      "[14 19]\n",
      "[0 4]\n"
     ]
    }
   ],
   "source": [
    "for row in X:\n",
    "    print(row)"
   ]
  },
  {
   "cell_type": "code",
   "execution_count": 24,
   "metadata": {
    "collapsed": false
   },
   "outputs": [
    {
     "data": {
      "text/plain": [
       "array([51, 55, 14, 19,  0,  4])"
      ]
     },
     "execution_count": 24,
     "metadata": {},
     "output_type": "execute_result"
    }
   ],
   "source": [
    "Xf = X.flatten()\n",
    "Xf"
   ]
  },
  {
   "cell_type": "code",
   "execution_count": 25,
   "metadata": {
    "collapsed": false
   },
   "outputs": [
    {
     "data": {
      "text/plain": [
       "array([51, 14,  0])"
      ]
     },
     "execution_count": 25,
     "metadata": {},
     "output_type": "execute_result"
    }
   ],
   "source": [
    "Xf[np.array([0, 2, 4])]  # インデックスが0, 2, 4番目の要素を取得"
   ]
  },
  {
   "cell_type": "code",
   "execution_count": 26,
   "metadata": {
    "collapsed": false
   },
   "outputs": [
    {
     "data": {
      "text/plain": [
       "array([ True,  True, False,  True, False, False], dtype=bool)"
      ]
     },
     "execution_count": 26,
     "metadata": {},
     "output_type": "execute_result"
    }
   ],
   "source": [
    "Xf > 15"
   ]
  },
  {
   "cell_type": "code",
   "execution_count": 27,
   "metadata": {
    "collapsed": false
   },
   "outputs": [
    {
     "data": {
      "text/plain": [
       "array([51, 55, 19])"
      ]
     },
     "execution_count": 27,
     "metadata": {},
     "output_type": "execute_result"
    }
   ],
   "source": [
    "Xf[Xf > 15]  # 条件を満たす要素を取得"
   ]
  },
  {
   "cell_type": "markdown",
   "metadata": {},
   "source": [
    "## 1.6 Matplotlib"
   ]
  },
  {
   "cell_type": "code",
   "execution_count": 28,
   "metadata": {
    "collapsed": false
   },
   "outputs": [],
   "source": [
    "%matplotlib inline\n",
    "import numpy as np\n",
    "import matplotlib.pyplot as plt"
   ]
  },
  {
   "cell_type": "code",
   "execution_count": 29,
   "metadata": {
    "collapsed": false
   },
   "outputs": [
    {
     "data": {
      "text/plain": [
       "array([ 0. ,  0.1,  0.2,  0.3,  0.4,  0.5,  0.6,  0.7,  0.8,  0.9,  1. ,\n",
       "        1.1,  1.2,  1.3,  1.4,  1.5,  1.6,  1.7,  1.8,  1.9,  2. ,  2.1,\n",
       "        2.2,  2.3,  2.4,  2.5,  2.6,  2.7,  2.8,  2.9,  3. ,  3.1,  3.2,\n",
       "        3.3,  3.4,  3.5,  3.6,  3.7,  3.8,  3.9,  4. ,  4.1,  4.2,  4.3,\n",
       "        4.4,  4.5,  4.6,  4.7,  4.8,  4.9,  5. ,  5.1,  5.2,  5.3,  5.4,\n",
       "        5.5,  5.6,  5.7,  5.8,  5.9])"
      ]
     },
     "execution_count": 29,
     "metadata": {},
     "output_type": "execute_result"
    }
   ],
   "source": [
    "x = np.arange(0, 6, 0.1)  # 0から6まで0.1刻みで生成\n",
    "x"
   ]
  },
  {
   "cell_type": "code",
   "execution_count": 30,
   "metadata": {
    "collapsed": false
   },
   "outputs": [
    {
     "data": {
      "text/plain": [
       "array([ 0.        ,  0.09983342,  0.19866933,  0.29552021,  0.38941834,\n",
       "        0.47942554,  0.56464247,  0.64421769,  0.71735609,  0.78332691,\n",
       "        0.84147098,  0.89120736,  0.93203909,  0.96355819,  0.98544973,\n",
       "        0.99749499,  0.9995736 ,  0.99166481,  0.97384763,  0.94630009,\n",
       "        0.90929743,  0.86320937,  0.8084964 ,  0.74570521,  0.67546318,\n",
       "        0.59847214,  0.51550137,  0.42737988,  0.33498815,  0.23924933,\n",
       "        0.14112001,  0.04158066, -0.05837414, -0.15774569, -0.2555411 ,\n",
       "       -0.35078323, -0.44252044, -0.52983614, -0.61185789, -0.68776616,\n",
       "       -0.7568025 , -0.81827711, -0.87157577, -0.91616594, -0.95160207,\n",
       "       -0.97753012, -0.993691  , -0.99992326, -0.99616461, -0.98245261,\n",
       "       -0.95892427, -0.92581468, -0.88345466, -0.83226744, -0.77276449,\n",
       "       -0.70554033, -0.63126664, -0.55068554, -0.46460218, -0.37387666])"
      ]
     },
     "execution_count": 30,
     "metadata": {},
     "output_type": "execute_result"
    }
   ],
   "source": [
    "y = np.sin(x)\n",
    "y"
   ]
  },
  {
   "cell_type": "code",
   "execution_count": 31,
   "metadata": {
    "collapsed": false
   },
   "outputs": [
    {
     "data": {
      "image/png": "[encoded data removed]",
      "text/plain": [
       "<matplotlib.figure.Figure at 0x10a61bf60>"
      ]
     },
     "metadata": {},
     "output_type": "display_data"
    }
   ],
   "source": [
    "plt.plot(x, y)\n",
    "plt.show()"
   ]
  },
  {
   "cell_type": "code",
   "execution_count": 32,
   "metadata": {
    "collapsed": false
   },
   "outputs": [
    {
     "data": {
      "image/png": "[encoded data removed]",
      "text/plain": [
       "<matplotlib.figure.Figure at 0x10a633320>"
      ]
     },
     "metadata": {},
     "output_type": "display_data"
    }
   ],
   "source": [
    "y1 = np.sin(x)\n",
    "y2 = np.cos(x)\n",
    "\n",
    "plt.plot(x, y1, label=\"sin\")\n",
    "plt.plot(x, y2, linestyle = \"--\", label=\"cos\") # 破線で描画\n",
    "plt.xlabel(\"x\") # x 軸のラベル\n",
    "plt.ylabel(\"y\") # y 軸のラベル\n",
    "plt.title('sin & cos') # タイトル\n",
    "plt.legend()\n",
    "plt.show()"
   ]
  }
 ],
 "metadata": {
  "anaconda-cloud": {},
  "kernelspec": {
   "display_name": "Python [Root]",
   "language": "python",
   "name": "Python [Root]"
  },
  "language_info": {
   "codemirror_mode": {
    "name": "ipython",
    "version": 3
   },
   "file_extension": ".py",
   "mimetype": "text/x-python",
   "name": "python",
   "nbconvert_exporter": "python",
   "pygments_lexer": "ipython3",
   "version": "3.5.2"
  }
 },
 "nbformat": 4,
 "nbformat_minor": 0
}
